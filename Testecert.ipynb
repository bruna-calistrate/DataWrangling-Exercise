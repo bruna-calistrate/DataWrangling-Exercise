{
 "cells": [
  {
   "cell_type": "markdown",
   "metadata": {},
   "source": [
    "# Utilizando a base **Wine Reviews**, encontre os valores abaixo\n",
    "\n",
    "Fonte: https://www.kaggle.com/datasets/zynicide/wine-reviews?select=winemag-data-130k-v2.csv\n"
   ]
  },
  {
   "cell_type": "code",
   "execution_count": 1,
   "metadata": {},
   "outputs": [],
   "source": [
    "import pandas as pd\n",
    "import numpy as np\n",
    "import matplotlib.pyplot as plt\n",
    "import seaborn as sns \n",
    "from sklearn.preprocessing import KBinsDiscretizer, PowerTransformer\n",
    "from scipy import stats"
   ]
  },
  {
   "cell_type": "code",
   "execution_count": 2,
   "metadata": {},
   "outputs": [],
   "source": [
    "data = pd.read_csv(\"../winemag-data-130k-v2.csv\").iloc[:,1:]"
   ]
  },
  {
   "cell_type": "markdown",
   "metadata": {},
   "source": [
    "### 1. Percentual de registros nulos acima de 25%"
   ]
  },
  {
   "cell_type": "code",
   "execution_count": 3,
   "metadata": {},
   "outputs": [],
   "source": [
    "df = data.copy()\n",
    "cols = list(df)"
   ]
  },
  {
   "cell_type": "code",
   "execution_count": 4,
   "metadata": {},
   "outputs": [
    {
     "name": "stdout",
     "output_type": "stream",
     "text": [
      "Percentual de nulos\n",
      "designation: 28.825661109016625\n",
      "region_2: 61.136715113371444\n"
     ]
    }
   ],
   "source": [
    "print(\"Percentual de nulos\")\n",
    "\n",
    "for col in cols:\n",
    "    if ((df[col].loc[df[col].isna()].shape[0]) / (df.shape[0])) * 100 > 25:\n",
    "        print(f\"{col}: {((df[col].loc[df[col].isna()].shape[0]) / (df.shape[0])) * 100}\")"
   ]
  },
  {
   "cell_type": "markdown",
   "metadata": {},
   "source": [
    "Apenas duas variáveis **designation** e **region_2** possuem mais de 25% de valores nulos"
   ]
  },
  {
   "cell_type": "markdown",
   "metadata": {},
   "source": [
    "### 2. Distribuição de **points** em 4 KBins * 5 + 80"
   ]
  },
  {
   "cell_type": "code",
   "execution_count": 5,
   "metadata": {},
   "outputs": [],
   "source": [
    "train = df[['points']].dropna()\n",
    "\n",
    "discretizer = KBinsDiscretizer(n_bins= 4,\n",
    "                               encode= 'ordinal', \n",
    "                               strategy= 'uniform')\n",
    "discretizer.fit(train) \n",
    "\n",
    "df['points_group'] = discretizer.transform(train) * 5 + 80"
   ]
  },
  {
   "cell_type": "code",
   "execution_count": 6,
   "metadata": {},
   "outputs": [
    {
     "data": {
      "text/plain": [
       "<AxesSubplot:xlabel='points_group', ylabel='Count'>"
      ]
     },
     "execution_count": 6,
     "metadata": {},
     "output_type": "execute_result"
    },
    {
     "data": {
      "image/png": "[encoded data removed]",
      "text/plain": [
       "<Figure size 720x360 with 1 Axes>"
      ]
     },
     "metadata": {
      "needs_background": "light"
     },
     "output_type": "display_data"
    }
   ],
   "source": [
    "plt.figure(figsize=(10,5))\n",
    "sns.histplot(data=df,\n",
    "             x='points_group')"
   ]
  },
  {
   "cell_type": "code",
   "execution_count": 7,
   "metadata": {},
   "outputs": [
    {
     "data": {
      "text/plain": [
       "85.0    68496\n",
       "90.0    46629\n",
       "80.0    12430\n",
       "95.0     2416\n",
       "Name: points_group, dtype: int64"
      ]
     },
     "execution_count": 7,
     "metadata": {},
     "output_type": "execute_result"
    }
   ],
   "source": [
    "df['points_group'].value_counts()"
   ]
  },
  {
   "cell_type": "markdown",
   "metadata": {},
   "source": [
    "### 3. Crie **df_price_per_group[['country', 'points_group', 'price']]** com as médias dos valores e faça merge left com **df**, substituia os valores nulos de **price** pelos de **price_per_group**. Informe a média de **price**"
   ]
  },
  {
   "cell_type": "code",
   "execution_count": 8,
   "metadata": {},
   "outputs": [],
   "source": [
    "df_price_per_group = df[\n",
    "                        [\"country\", \n",
    "                         \"points_group\",\n",
    "                         \"price\"]\n",
    "                         ].groupby([\"country\", \"points_group\"]).mean()"
   ]
  },
  {
   "cell_type": "code",
   "execution_count": 9,
   "metadata": {},
   "outputs": [],
   "source": [
    "df_price = df.merge(df_price_per_group, \n",
    "                    on=['country', 'points_group'], \n",
    "                    how='left',\n",
    "                    suffixes=('', '_per_group'))"
   ]
  },
  {
   "cell_type": "code",
   "execution_count": 10,
   "metadata": {},
   "outputs": [],
   "source": [
    "df_price['price'].fillna(df_price['price_per_group'], inplace=True)"
   ]
  },
  {
   "cell_type": "code",
   "execution_count": 11,
   "metadata": {},
   "outputs": [
    {
     "name": "stdout",
     "output_type": "stream",
     "text": [
      "A nova média de price é US$ 35.61\n"
     ]
    }
   ],
   "source": [
    "print(f'A nova média de price é US$ {df_price[\"price\"].mean():.2f}')\n"
   ]
  },
  {
   "cell_type": "markdown",
   "metadata": {},
   "source": [
    "### 4. De acordo com o Z Score, informe os outliers de **price**"
   ]
  },
  {
   "cell_type": "markdown",
   "metadata": {},
   "source": [
    "Recarregar o dataset"
   ]
  },
  {
   "cell_type": "code",
   "execution_count": 12,
   "metadata": {},
   "outputs": [],
   "source": [
    "df = data.copy()"
   ]
  },
  {
   "cell_type": "markdown",
   "metadata": {},
   "source": [
    "Retirar todos os valores nulos de **price**"
   ]
  },
  {
   "cell_type": "code",
   "execution_count": 13,
   "metadata": {},
   "outputs": [],
   "source": [
    "df.dropna(subset=['price'],\n",
    "          how='any', \n",
    "          axis='index', \n",
    "          inplace=True)"
   ]
  },
  {
   "cell_type": "markdown",
   "metadata": {},
   "source": [
    "Calcular o Z Score"
   ]
  },
  {
   "cell_type": "code",
   "execution_count": 14,
   "metadata": {},
   "outputs": [],
   "source": [
    "z = np.abs(stats.zscore(df['price'].values))"
   ]
  },
  {
   "cell_type": "code",
   "execution_count": 15,
   "metadata": {},
   "outputs": [
    {
     "name": "stdout",
     "output_type": "stream",
     "text": [
      "Existem 1177 outliers na variável price\n"
     ]
    }
   ],
   "source": [
    "print(f'Existem {df[z>3].shape[0]} outliers na variável price')"
   ]
  },
  {
   "cell_type": "markdown",
   "metadata": {},
   "source": [
    "### 5. Filtre os 7 países mais representativos da variável **country** e informe o percentual de sua soma cumulativa"
   ]
  },
  {
   "cell_type": "code",
   "execution_count": 16,
   "metadata": {},
   "outputs": [],
   "source": [
    "countries = list(df['country'].value_counts().head(7).index)"
   ]
  },
  {
   "cell_type": "code",
   "execution_count": 17,
   "metadata": {},
   "outputs": [
    {
     "name": "stdout",
     "output_type": "stream",
     "text": [
      "Os países ['US', 'France', 'Italy', 'Spain', 'Portugal', 'Chile', 'Argentina'] representam 90 % da variável country.\n"
     ]
    }
   ],
   "source": [
    "print(f\"Os países {countries} representam \"\n",
    "      f\"{(df['country'].value_counts().head(7).sum() / len(df['country'])) * 100:.0f} % \"\n",
    "      f\"da variável country.\")"
   ]
  },
  {
   "cell_type": "markdown",
   "metadata": {},
   "source": [
    "### 6. One-Hot Encoding filtro **country** US, **province** com mais de 100 registros"
   ]
  },
  {
   "cell_type": "code",
   "execution_count": 18,
   "metadata": {},
   "outputs": [],
   "source": [
    "df_us = df.loc[df['country'] == 'US']"
   ]
  },
  {
   "cell_type": "code",
   "execution_count": 19,
   "metadata": {},
   "outputs": [],
   "source": [
    "def cat_filter(df, columns, entries):\n",
    "  import pandas as pd\n",
    "  filter = {}\n",
    "  for col in columns:\n",
    "    cat = df[col].value_counts()\n",
    "    filter = {x: 'Other' for x in cat[cat < entries].index}\n",
    "  df_new = df[columns].replace(filter).copy()\n",
    "  df_new = pd.get_dummies(df, columns=columns, drop_first=True)\n",
    "  return df_new"
   ]
  },
  {
   "cell_type": "code",
   "execution_count": 20,
   "metadata": {},
   "outputs": [],
   "source": [
    "df_province = cat_filter(df_us, columns=['province'], entries= 100)"
   ]
  },
  {
   "cell_type": "code",
   "execution_count": 21,
   "metadata": {},
   "outputs": [
    {
     "name": "stdout",
     "output_type": "stream",
     "text": [
      "Serão necessárias mais 25 colunas\n"
     ]
    }
   ],
   "source": [
    "\n",
    "print(f'Serão necessárias mais {df_province.shape[1] - df_us.shape[1]} colunas')"
   ]
  },
  {
   "cell_type": "markdown",
   "metadata": {},
   "source": [
    "### 7. Ao aplicar a transformação Box-Cox na variável **price**, encontre o valor de lambda"
   ]
  },
  {
   "cell_type": "code",
   "execution_count": 22,
   "metadata": {},
   "outputs": [],
   "source": [
    "df = data.copy()"
   ]
  },
  {
   "cell_type": "code",
   "execution_count": 23,
   "metadata": {},
   "outputs": [],
   "source": [
    "boxcox_transformer = PowerTransformer(method='box-cox', \n",
    "                                      standardize=False)\n",
    "df['price_box-cox'] = boxcox_transformer.fit_transform(df[['price']])"
   ]
  },
  {
   "cell_type": "code",
   "execution_count": 24,
   "metadata": {},
   "outputs": [
    {
     "data": {
      "text/plain": [
       "[Text(0.5, 1.0, 'Imagem 2 - Distribuição da variável Price após transformação Box-Cox')]"
      ]
     },
     "execution_count": 24,
     "metadata": {},
     "output_type": "execute_result"
    },
    {
     "data": {
      "image/png": "[encoded data removed]",
      "text/plain": [
       "<Figure size 1080x360 with 2 Axes>"
      ]
     },
     "metadata": {
      "needs_background": "light"
     },
     "output_type": "display_data"
    }
   ],
   "source": [
    "fig, axs = plt.subplots(nrows=1, \n",
    "                        ncols=2, \n",
    "                        figsize=(15, 5))\n",
    "\n",
    "sns.histplot(data=df,\n",
    "            x='price',\n",
    "            bins=20,\n",
    "            ax=axs[0]).set(title='Imagem 1 - Distribuição da variável Price')\n",
    "\n",
    "sns.histplot(data=df,\n",
    "            x='price_box-cox',\n",
    "            bins=20,\n",
    "            ax=axs[1]).set(title='Imagem 2 - Distribuição da variável Price após transformação Box-Cox')"
   ]
  },
  {
   "cell_type": "code",
   "execution_count": 25,
   "metadata": {},
   "outputs": [
    {
     "name": "stdout",
     "output_type": "stream",
     "text": [
      "O valor de lambda utilizado foi: -0.296\n"
     ]
    }
   ],
   "source": [
    "print(f'O valor de lambda utilizado foi: {boxcox_transformer.lambdas_[0]:.3f}')"
   ]
  },
  {
   "cell_type": "markdown",
   "metadata": {},
   "source": [
    "### 8. Tratar **description** com NLP"
   ]
  },
  {
   "cell_type": "code",
   "execution_count": 26,
   "metadata": {},
   "outputs": [
    {
     "name": "stderr",
     "output_type": "stream",
     "text": [
      "[nltk_data] Downloading package punkt to\n",
      "[nltk_data]     C:\\Users\\bruna\\AppData\\Roaming\\nltk_data...\n",
      "[nltk_data]   Package punkt is already up-to-date!\n",
      "[nltk_data] Downloading package stopwords to\n",
      "[nltk_data]     C:\\Users\\bruna\\AppData\\Roaming\\nltk_data...\n",
      "[nltk_data]   Package stopwords is already up-to-date!\n"
     ]
    }
   ],
   "source": [
    "import nltk\n",
    "nltk.download('punkt')\n",
    "nltk.download('stopwords')\n",
    "from nltk.tokenize import word_tokenize\n",
    "from nltk.stem import SnowballStemmer\n",
    "from nltk.corpus import stopwords\n",
    "import string\n",
    "import re"
   ]
  },
  {
   "cell_type": "code",
   "execution_count": 27,
   "metadata": {},
   "outputs": [],
   "source": [
    "def clean_text(sentence):\n",
    "    word_tokens = word_tokenize(sentence)\n",
    "    new_words = [word for word in word_tokens\n",
    "                if (word not in string.punctuation\n",
    "                    and not re.match('[0-9]+', word))]\n",
    "    clean_tokens = new_words[:]\n",
    "    for token in clean_tokens:\n",
    "        if token in stopwords.words('english'):\n",
    "            clean_tokens.remove(token)\n",
    "    return ' '.join(clean_tokens)\n"
   ]
  },
  {
   "cell_type": "code",
   "execution_count": 28,
   "metadata": {},
   "outputs": [],
   "source": [
    "df['description_clean'] = df['description'].apply(clean_text)"
   ]
  },
  {
   "cell_type": "code",
   "execution_count": 29,
   "metadata": {},
   "outputs": [
    {
     "data": {
      "text/html": [
       "<div>\n",
       "<style scoped>\n",
       "    .dataframe tbody tr th:only-of-type {\n",
       "        vertical-align: middle;\n",
       "    }\n",
       "\n",
       "    .dataframe tbody tr th {\n",
       "        vertical-align: top;\n",
       "    }\n",
       "\n",
       "    .dataframe thead th {\n",
       "        text-align: right;\n",
       "    }\n",
       "</style>\n",
       "<table border=\"1\" class=\"dataframe\">\n",
       "  <thead>\n",
       "    <tr style=\"text-align: right;\">\n",
       "      <th></th>\n",
       "      <th>description</th>\n",
       "      <th>description_clean</th>\n",
       "    </tr>\n",
       "  </thead>\n",
       "  <tbody>\n",
       "    <tr>\n",
       "      <th>0</th>\n",
       "      <td>Aromas include tropical fruit, broom, brimstone and dried herb. The palate isn't overly expressive, offering unripened apple, citrus and dried sage alongside brisk acidity.</td>\n",
       "      <td>Aromas include tropical fruit broom brimstone dried herb The palate n't overly expressive offering unripened apple citrus dried sage alongside brisk acidity</td>\n",
       "    </tr>\n",
       "    <tr>\n",
       "      <th>1</th>\n",
       "      <td>This is ripe and fruity, a wine that is smooth while still structured. Firm tannins are filled out with juicy red berry fruits and freshened with acidity. It's  already drinkable, although it will certainly be better from 2016.</td>\n",
       "      <td>This ripe fruity wine is smooth still structured Firm tannins filled juicy red berry fruits freshened with acidity It 's already drinkable although will certainly better</td>\n",
       "    </tr>\n",
       "    <tr>\n",
       "      <th>2</th>\n",
       "      <td>Tart and snappy, the flavors of lime flesh and rind dominate. Some green pineapple pokes through, with crisp acidity underscoring the flavors. The wine was all stainless-steel fermented.</td>\n",
       "      <td>Tart snappy flavors lime flesh rind dominate Some green pineapple pokes with crisp acidity underscoring flavors The wine all stainless-steel fermented</td>\n",
       "    </tr>\n",
       "    <tr>\n",
       "      <th>3</th>\n",
       "      <td>Pineapple rind, lemon pith and orange blossom start off the aromas. The palate is a bit more opulent, with notes of honey-drizzled guava and mango giving way to a slightly astringent, semidry finish.</td>\n",
       "      <td>Pineapple rind lemon pith orange blossom start the aromas The palate a bit opulent notes honey-drizzled guava mango giving way a slightly astringent semidry finish</td>\n",
       "    </tr>\n",
       "    <tr>\n",
       "      <th>4</th>\n",
       "      <td>Much like the regular bottling from 2012, this comes across as rather rough and tannic, with rustic, earthy, herbal characteristics. Nonetheless, if you think of it as a pleasantly unfussy country wine, it's a good companion to a hearty winter stew.</td>\n",
       "      <td>Much like regular bottling this comes across rather rough tannic rustic earthy herbal characteristics Nonetheless you think pleasantly unfussy country wine it 's a good companion a hearty winter stew</td>\n",
       "    </tr>\n",
       "    <tr>\n",
       "      <th>5</th>\n",
       "      <td>Blackberry and raspberry aromas show a typical Navarran whiff of green herbs and, in this case, horseradish. In the mouth, this is fairly full bodied, with tomatoey acidity. Spicy, herbal flavors complement dark plum fruit, while the finish is fresh but grabby.</td>\n",
       "      <td>Blackberry raspberry aromas show typical Navarran whiff green herbs in case horseradish In mouth fairly full bodied tomatoey acidity Spicy herbal flavors complement dark plum fruit the finish is fresh grabby</td>\n",
       "    </tr>\n",
       "    <tr>\n",
       "      <th>6</th>\n",
       "      <td>Here's a bright, informal red that opens with aromas of candied berry, white pepper and savory herb that carry over to the palate. It's balanced with fresh acidity and soft tannins.</td>\n",
       "      <td>Here 's bright informal red opens aromas candied berry white pepper savory herb carry to palate It 's balanced fresh acidity soft tannins</td>\n",
       "    </tr>\n",
       "    <tr>\n",
       "      <th>7</th>\n",
       "      <td>This dry and restrained wine offers spice in profusion. Balanced with acidity and a firm texture, it's very much for food.</td>\n",
       "      <td>This dry restrained wine offers spice profusion Balanced acidity a firm texture 's much food</td>\n",
       "    </tr>\n",
       "    <tr>\n",
       "      <th>8</th>\n",
       "      <td>Savory dried thyme notes accent sunnier flavors of preserved peach in this brisk, off-dry wine. It's fruity and fresh, with an elegant, sprightly footprint.</td>\n",
       "      <td>Savory dried thyme notes accent sunnier flavors preserved peach this brisk off-dry wine It 's fruity fresh an elegant sprightly footprint</td>\n",
       "    </tr>\n",
       "    <tr>\n",
       "      <th>9</th>\n",
       "      <td>This has great depth of flavor with its fresh apple and pear fruits and touch of spice. It's off dry while balanced with acidity and a crisp texture. Drink now.</td>\n",
       "      <td>This great depth flavor its fresh apple pear fruits touch spice It 's dry balanced acidity a crisp texture Drink</td>\n",
       "    </tr>\n",
       "  </tbody>\n",
       "</table>\n",
       "</div>"
      ],
      "text/plain": [
       "                                                                                                                                                                                                                                                             description  \\\n",
       "0                                                                                           Aromas include tropical fruit, broom, brimstone and dried herb. The palate isn't overly expressive, offering unripened apple, citrus and dried sage alongside brisk acidity.   \n",
       "1                                    This is ripe and fruity, a wine that is smooth while still structured. Firm tannins are filled out with juicy red berry fruits and freshened with acidity. It's  already drinkable, although it will certainly be better from 2016.   \n",
       "2                                                                             Tart and snappy, the flavors of lime flesh and rind dominate. Some green pineapple pokes through, with crisp acidity underscoring the flavors. The wine was all stainless-steel fermented.   \n",
       "3                                                                Pineapple rind, lemon pith and orange blossom start off the aromas. The palate is a bit more opulent, with notes of honey-drizzled guava and mango giving way to a slightly astringent, semidry finish.   \n",
       "4              Much like the regular bottling from 2012, this comes across as rather rough and tannic, with rustic, earthy, herbal characteristics. Nonetheless, if you think of it as a pleasantly unfussy country wine, it's a good companion to a hearty winter stew.   \n",
       "5  Blackberry and raspberry aromas show a typical Navarran whiff of green herbs and, in this case, horseradish. In the mouth, this is fairly full bodied, with tomatoey acidity. Spicy, herbal flavors complement dark plum fruit, while the finish is fresh but grabby.   \n",
       "6                                                                                  Here's a bright, informal red that opens with aromas of candied berry, white pepper and savory herb that carry over to the palate. It's balanced with fresh acidity and soft tannins.   \n",
       "7                                                                                                                                             This dry and restrained wine offers spice in profusion. Balanced with acidity and a firm texture, it's very much for food.   \n",
       "8                                                                                                           Savory dried thyme notes accent sunnier flavors of preserved peach in this brisk, off-dry wine. It's fruity and fresh, with an elegant, sprightly footprint.   \n",
       "9                                                                                                       This has great depth of flavor with its fresh apple and pear fruits and touch of spice. It's off dry while balanced with acidity and a crisp texture. Drink now.   \n",
       "\n",
       "                                                                                                                                                                                                 description_clean  \n",
       "0                                                     Aromas include tropical fruit broom brimstone dried herb The palate n't overly expressive offering unripened apple citrus dried sage alongside brisk acidity  \n",
       "1                                        This ripe fruity wine is smooth still structured Firm tannins filled juicy red berry fruits freshened with acidity It 's already drinkable although will certainly better  \n",
       "2                                                           Tart snappy flavors lime flesh rind dominate Some green pineapple pokes with crisp acidity underscoring flavors The wine all stainless-steel fermented  \n",
       "3                                              Pineapple rind lemon pith orange blossom start the aromas The palate a bit opulent notes honey-drizzled guava mango giving way a slightly astringent semidry finish  \n",
       "4          Much like regular bottling this comes across rather rough tannic rustic earthy herbal characteristics Nonetheless you think pleasantly unfussy country wine it 's a good companion a hearty winter stew  \n",
       "5  Blackberry raspberry aromas show typical Navarran whiff green herbs in case horseradish In mouth fairly full bodied tomatoey acidity Spicy herbal flavors complement dark plum fruit the finish is fresh grabby  \n",
       "6                                                                        Here 's bright informal red opens aromas candied berry white pepper savory herb carry to palate It 's balanced fresh acidity soft tannins  \n",
       "7                                                                                                                     This dry restrained wine offers spice profusion Balanced acidity a firm texture 's much food  \n",
       "8                                                                        Savory dried thyme notes accent sunnier flavors preserved peach this brisk off-dry wine It 's fruity fresh an elegant sprightly footprint  \n",
       "9                                                                                                 This great depth flavor its fresh apple pear fruits touch spice It 's dry balanced acidity a crisp texture Drink  "
      ]
     },
     "execution_count": 29,
     "metadata": {},
     "output_type": "execute_result"
    }
   ],
   "source": [
    "pd.options.display.max_colwidth = 300\n",
    "df[['description','description_clean']].head(10)"
   ]
  },
  {
   "cell_type": "markdown",
   "metadata": {},
   "source": [
    "### 9. Encontre o preço médio por província e faça o cálculo de diferença com **price**"
   ]
  },
  {
   "cell_type": "markdown",
   "metadata": {},
   "source": [
    "Importar novamente os dados e retirar os nulos de **price**"
   ]
  },
  {
   "cell_type": "code",
   "execution_count": 30,
   "metadata": {},
   "outputs": [],
   "source": [
    "df = data.copy()\n",
    "df.dropna(subset=['price'],\n",
    "          how='any', \n",
    "          axis='index', \n",
    "          inplace=True)"
   ]
  },
  {
   "cell_type": "markdown",
   "metadata": {},
   "source": [
    "Encontrar o preço médio por província e mesclar o resultado aos dados originais"
   ]
  },
  {
   "cell_type": "code",
   "execution_count": 31,
   "metadata": {},
   "outputs": [],
   "source": [
    "province = df[['province', 'price']].groupby(['province']).mean()"
   ]
  },
  {
   "cell_type": "code",
   "execution_count": 32,
   "metadata": {},
   "outputs": [],
   "source": [
    "df_pro = df.merge(province, \n",
    "                  on=['province'], \n",
    "                  how='left', \n",
    "                  suffixes=('', '_per_province'))"
   ]
  },
  {
   "cell_type": "markdown",
   "metadata": {},
   "source": [
    "Calcular o delta entre **price** e **price_per_province**"
   ]
  },
  {
   "cell_type": "code",
   "execution_count": 33,
   "metadata": {},
   "outputs": [],
   "source": [
    "def delta(df, col1, col2):\n",
    "    df['diff'] = df[col1] - df[col2]\n",
    "    df['delta'] = df['diff'].apply(lambda x: \"Acima\" if x > 0 else (\"Abaixo\" if x < 0 else \"Null\"))\n",
    "    return df[[col1, col2, 'delta']]"
   ]
  },
  {
   "cell_type": "code",
   "execution_count": 34,
   "metadata": {},
   "outputs": [
    {
     "data": {
      "text/html": [
       "<div>\n",
       "<style scoped>\n",
       "    .dataframe tbody tr th:only-of-type {\n",
       "        vertical-align: middle;\n",
       "    }\n",
       "\n",
       "    .dataframe tbody tr th {\n",
       "        vertical-align: top;\n",
       "    }\n",
       "\n",
       "    .dataframe thead th {\n",
       "        text-align: right;\n",
       "    }\n",
       "</style>\n",
       "<table border=\"1\" class=\"dataframe\">\n",
       "  <thead>\n",
       "    <tr style=\"text-align: right;\">\n",
       "      <th></th>\n",
       "      <th>price</th>\n",
       "      <th>price_per_province</th>\n",
       "      <th>delta</th>\n",
       "    </tr>\n",
       "  </thead>\n",
       "  <tbody>\n",
       "    <tr>\n",
       "      <th>0</th>\n",
       "      <td>15.0</td>\n",
       "      <td>29.141975</td>\n",
       "      <td>Abaixo</td>\n",
       "    </tr>\n",
       "    <tr>\n",
       "      <th>1</th>\n",
       "      <td>14.0</td>\n",
       "      <td>36.545064</td>\n",
       "      <td>Abaixo</td>\n",
       "    </tr>\n",
       "    <tr>\n",
       "      <th>2</th>\n",
       "      <td>13.0</td>\n",
       "      <td>32.432432</td>\n",
       "      <td>Abaixo</td>\n",
       "    </tr>\n",
       "  </tbody>\n",
       "</table>\n",
       "</div>"
      ],
      "text/plain": [
       "   price  price_per_province   delta\n",
       "0   15.0           29.141975  Abaixo\n",
       "1   14.0           36.545064  Abaixo\n",
       "2   13.0           32.432432  Abaixo"
      ]
     },
     "execution_count": 34,
     "metadata": {},
     "output_type": "execute_result"
    }
   ],
   "source": [
    "delta(df_pro, 'price', 'price_per_province').head(3)"
   ]
  },
  {
   "cell_type": "code",
   "execution_count": 35,
   "metadata": {},
   "outputs": [
    {
     "data": {
      "text/html": [
       "<div>\n",
       "<style scoped>\n",
       "    .dataframe tbody tr th:only-of-type {\n",
       "        vertical-align: middle;\n",
       "    }\n",
       "\n",
       "    .dataframe tbody tr th {\n",
       "        vertical-align: top;\n",
       "    }\n",
       "\n",
       "    .dataframe thead th {\n",
       "        text-align: right;\n",
       "    }\n",
       "</style>\n",
       "<table border=\"1\" class=\"dataframe\">\n",
       "  <thead>\n",
       "    <tr style=\"text-align: right;\">\n",
       "      <th></th>\n",
       "      <th>province</th>\n",
       "      <th>price</th>\n",
       "      <th>price_per_province</th>\n",
       "      <th>delta</th>\n",
       "    </tr>\n",
       "  </thead>\n",
       "  <tbody>\n",
       "    <tr>\n",
       "      <th>0</th>\n",
       "      <td>Douro</td>\n",
       "      <td>15.0</td>\n",
       "      <td>29.141975</td>\n",
       "      <td>Abaixo</td>\n",
       "    </tr>\n",
       "    <tr>\n",
       "      <th>1</th>\n",
       "      <td>Oregon</td>\n",
       "      <td>14.0</td>\n",
       "      <td>36.545064</td>\n",
       "      <td>Abaixo</td>\n",
       "    </tr>\n",
       "    <tr>\n",
       "      <th>2</th>\n",
       "      <td>Michigan</td>\n",
       "      <td>13.0</td>\n",
       "      <td>32.432432</td>\n",
       "      <td>Abaixo</td>\n",
       "    </tr>\n",
       "    <tr>\n",
       "      <th>3</th>\n",
       "      <td>Oregon</td>\n",
       "      <td>65.0</td>\n",
       "      <td>36.545064</td>\n",
       "      <td>Acima</td>\n",
       "    </tr>\n",
       "    <tr>\n",
       "      <th>4</th>\n",
       "      <td>Northern Spain</td>\n",
       "      <td>15.0</td>\n",
       "      <td>30.771925</td>\n",
       "      <td>Abaixo</td>\n",
       "    </tr>\n",
       "  </tbody>\n",
       "</table>\n",
       "</div>"
      ],
      "text/plain": [
       "         province  price  price_per_province   delta\n",
       "0           Douro   15.0           29.141975  Abaixo\n",
       "1          Oregon   14.0           36.545064  Abaixo\n",
       "2        Michigan   13.0           32.432432  Abaixo\n",
       "3          Oregon   65.0           36.545064   Acima\n",
       "4  Northern Spain   15.0           30.771925  Abaixo"
      ]
     },
     "execution_count": 35,
     "metadata": {},
     "output_type": "execute_result"
    }
   ],
   "source": [
    "df_pro[['province','price', 'price_per_province', 'delta']].head(5)"
   ]
  }
 ],
 "metadata": {
  "interpreter": {
   "hash": "314c7199c0f7682020347a5eb4c03b5290432a171b7bf50049e513c691fbf1fc"
  },
  "kernelspec": {
   "display_name": "Python 3.9.7 ('base')",
   "language": "python",
   "name": "python3"
  },
  "language_info": {
   "codemirror_mode": {
    "name": "ipython",
    "version": 3
   },
   "file_extension": ".py",
   "mimetype": "text/x-python",
   "name": "python",
   "nbconvert_exporter": "python",
   "pygments_lexer": "ipython3",
   "version": "3.9.7"
  },
  "orig_nbformat": 4
 },
 "nbformat": 4,
 "nbformat_minor": 2
}
